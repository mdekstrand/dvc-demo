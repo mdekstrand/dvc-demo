{
 "cells": [
  {
   "cell_type": "markdown",
   "metadata": {},
   "source": [
    "# Word Projections\n",
    "\n",
    "This notebook loads word embeddings and projects some words.\n",
    "\n",
    "Since we have several embeddings, we will configure the one we want to work with here:"
   ]
  },
  {
   "cell_type": "code",
   "execution_count": 1,
   "metadata": {},
   "outputs": [],
   "source": [
    "emb_name = 'glove.6B.50d'"
   ]
  },
  {
   "cell_type": "markdown",
   "metadata": {},
   "source": [
    "## Setup\n",
    "\n",
    "We need Pandas, Xarray, and Seaborn things:"
   ]
  },
  {
   "cell_type": "code",
   "execution_count": 2,
   "metadata": {},
   "outputs": [],
   "source": [
    "import pandas as pd\n",
    "import numpy as np\n",
    "import xarray as xa\n",
    "import seaborn as sns\n",
    "import matplotlib.pyplot as plt"
   ]
  },
  {
   "cell_type": "markdown",
   "metadata": {},
   "source": [
    "## Load the Data\n",
    "\n",
    "Let's load the data by opening an `xarray` data array:"
   ]
  },
  {
   "cell_type": "code",
   "execution_count": 3,
   "metadata": {},
   "outputs": [
    {
     "data": {
      "text/plain": [
       "<xarray.DataArray 'glove.6B.50d.txt' (word: 399998, dim: 50)>\n",
       "[19999900 values with dtype=float64]\n",
       "Coordinates:\n",
       "  * word     (word) object 'the' ',' '.' ... 'rolonda' 'zsombor' 'sandberger'\n",
       "  * dim      (dim) int32 1 2 3 4 5 6 7 8 9 10 ... 41 42 43 44 45 46 47 48 49 50"
      ]
     },
     "execution_count": 3,
     "metadata": {},
     "output_type": "execute_result"
    }
   ],
   "source": [
    "vectors = xa.open_dataarray(f'data/{emb_name}.netcdf')\n",
    "vectors"
   ]
  },
  {
   "cell_type": "markdown",
   "metadata": {},
   "source": [
    "## Accessing Data"
   ]
  },
  {
   "cell_type": "markdown",
   "metadata": {},
   "source": [
    "We can peek at a few words:"
   ]
  },
  {
   "cell_type": "code",
   "execution_count": 4,
   "metadata": {},
   "outputs": [
    {
     "data": {
      "text/plain": [
       "<xarray.DataArray 'glove.6B.50d.txt' (dim: 50)>\n",
       "array([ 0.098334, -0.157094,  0.094402,  0.243615,  0.021748,  0.010869,\n",
       "       -0.259865, -0.183874,  0.034665,  0.090077, -0.028554,  0.067138,\n",
       "        0.048961, -0.147112,  0.098597,  0.09012 , -0.269275,  0.16212 ,\n",
       "        0.113033, -0.206014,  0.063439, -0.115054,  0.078872,  0.040755,\n",
       "       -0.014015, -0.110008, -0.085066,  0.0326  ,  0.031079, -0.072582,\n",
       "        0.439936, -0.125997, -0.109934,  0.140559,  0.017953, -0.090442,\n",
       "       -0.159836,  0.073132,  0.044768, -0.293309,  0.122444, -0.031217,\n",
       "       -0.278118, -0.030655,  0.150891,  0.184022,  0.075632, -0.041403,\n",
       "       -0.058458,  0.050225])\n",
       "Coordinates:\n",
       "    word     <U5 'apple'\n",
       "  * dim      (dim) int32 1 2 3 4 5 6 7 8 9 10 ... 41 42 43 44 45 46 47 48 49 50"
      ]
     },
     "execution_count": 4,
     "metadata": {},
     "output_type": "execute_result"
    }
   ],
   "source": [
    "vectors.loc['apple', :]"
   ]
  },
  {
   "cell_type": "code",
   "execution_count": 5,
   "metadata": {},
   "outputs": [
    {
     "data": {
      "text/plain": [
       "<xarray.DataArray 'glove.6B.50d.txt' (dim: 50)>\n",
       "array([-0.015997, -0.043809,  0.117472,  0.011932,  0.265269,  0.140599,\n",
       "       -0.135699, -0.079635,  0.057   , -0.130098, -0.138527,  0.042825,\n",
       "        0.051595,  0.278589, -0.020974,  0.002277, -0.007708, -0.005896,\n",
       "        0.055136, -0.177196,  0.142576, -0.070822,  0.216368,  0.090189,\n",
       "       -0.026923,  0.015462, -0.320445,  0.085986,  0.279965, -0.09743 ,\n",
       "        0.189647, -0.089038, -0.187425,  0.358007, -0.02136 ,  0.099679,\n",
       "       -0.139147,  0.216743,  0.217306, -0.08934 ,  0.247822, -0.011722,\n",
       "       -0.039699,  0.004912,  0.039757,  0.136016,  0.080567, -0.004041,\n",
       "        0.061379,  0.026404])\n",
       "Coordinates:\n",
       "    word     <U6 'cookie'\n",
       "  * dim      (dim) int32 1 2 3 4 5 6 7 8 9 10 ... 41 42 43 44 45 46 47 48 49 50"
      ]
     },
     "execution_count": 5,
     "metadata": {},
     "output_type": "execute_result"
    }
   ],
   "source": [
    "vectors.loc['cookie', :]"
   ]
  },
  {
   "cell_type": "markdown",
   "metadata": {},
   "source": [
    "How similar are 'apple' and 'cookie'?"
   ]
  },
  {
   "cell_type": "code",
   "execution_count": 6,
   "metadata": {},
   "outputs": [
    {
     "data": {
      "text/plain": [
       "0.4664089360109994"
      ]
     },
     "execution_count": 6,
     "metadata": {},
     "output_type": "execute_result"
    }
   ],
   "source": [
    "np.dot(vectors.loc['apple', :], vectors.loc['cookie', :])"
   ]
  },
  {
   "cell_type": "markdown",
   "metadata": {},
   "source": [
    "How about and 'apple' and 'orange'?"
   ]
  },
  {
   "cell_type": "code",
   "execution_count": 7,
   "metadata": {},
   "outputs": [
    {
     "data": {
      "text/plain": [
       "0.5388040721946523"
      ]
     },
     "execution_count": 7,
     "metadata": {},
     "output_type": "execute_result"
    }
   ],
   "source": [
    "np.dot(vectors.loc['apple', :], vectors.loc['orange', :])"
   ]
  },
  {
   "cell_type": "markdown",
   "metadata": {},
   "source": [
    "## Projecting Words\n",
    "\n",
    "The \"Man is to Programmer as Woman is to Homemaker\" paper projected words onto gender axes to demonstrate the existence of gender bias in word embeddings.\n",
    "\n",
    "Let's make an axis from 'she' to 'he' that represents gender (there are more sophisticated ways to do this, but this will be fine to start):"
   ]
  },
  {
   "cell_type": "code",
   "execution_count": 8,
   "metadata": {},
   "outputs": [
    {
     "data": {
      "text/plain": [
       "<xarray.DataArray 'glove.6B.50d.txt' (dim: 50)>\n",
       "array([-0.04743967, -0.07802382,  0.02016525, -0.02658374,  0.00182033,\n",
       "       -0.11334677, -0.02821977,  0.00171081, -0.13525842,  0.00737956,\n",
       "        0.00845505,  0.04405043, -0.10670176, -0.04520413, -0.0479865 ,\n",
       "       -0.02838407,  0.07714101, -0.01369819, -0.12269473,  0.03636529,\n",
       "       -0.04882438, -0.12152056, -0.00342366, -0.07590407, -0.11048574,\n",
       "       -0.03687019,  0.07559901, -0.03808821, -0.01600614,  0.08881611,\n",
       "        0.07007162, -0.04000146, -0.048872  , -0.03575586,  0.04086934,\n",
       "        0.0269937 ,  0.02477164,  0.03129705, -0.00123182,  0.10933865,\n",
       "       -0.02301721,  0.03052752, -0.11418023,  0.09632625, -0.06925334,\n",
       "        0.0583385 , -0.07041178,  0.16175676,  0.00313913, -0.07725143])\n",
       "Coordinates:\n",
       "  * dim      (dim) int32 1 2 3 4 5 6 7 8 9 10 ... 41 42 43 44 45 46 47 48 49 50"
      ]
     },
     "execution_count": 8,
     "metadata": {},
     "output_type": "execute_result"
    }
   ],
   "source": [
    "heshe = vectors.loc['he', :] - vectors.loc['she', :]\n",
    "heshe"
   ]
  },
  {
   "cell_type": "markdown",
   "metadata": {},
   "source": [
    "We can project words onto this axis with a dot product:"
   ]
  },
  {
   "cell_type": "code",
   "execution_count": 9,
   "metadata": {},
   "outputs": [
    {
     "data": {
      "text/plain": [
       "-0.1823949898060081"
      ]
     },
     "execution_count": 9,
     "metadata": {},
     "output_type": "execute_result"
    }
   ],
   "source": [
    "np.dot(vectors.loc['mother', :], heshe)"
   ]
  },
  {
   "cell_type": "code",
   "execution_count": 10,
   "metadata": {},
   "outputs": [
    {
     "data": {
      "text/plain": [
       "0.007399722274729046"
      ]
     },
     "execution_count": 10,
     "metadata": {},
     "output_type": "execute_result"
    }
   ],
   "source": [
    "np.dot(vectors.loc['father', :], heshe)"
   ]
  },
  {
   "cell_type": "code",
   "execution_count": 11,
   "metadata": {},
   "outputs": [
    {
     "data": {
      "text/plain": [
       "-0.034228354444705344"
      ]
     },
     "execution_count": 11,
     "metadata": {},
     "output_type": "execute_result"
    }
   ],
   "source": [
    "np.dot(vectors.loc['apple', :], heshe)"
   ]
  },
  {
   "cell_type": "markdown",
   "metadata": {},
   "source": [
    "Let's project several words:"
   ]
  },
  {
   "cell_type": "code",
   "execution_count": 12,
   "metadata": {},
   "outputs": [],
   "source": [
    "words = ['person', 'mother', 'father', 'programmer', 'chef', 'botanist']"
   ]
  },
  {
   "cell_type": "code",
   "execution_count": 16,
   "metadata": {},
   "outputs": [
    {
     "data": {
      "text/plain": [
       "word\n",
       "person       -0.055801\n",
       "mother       -0.182395\n",
       "father        0.007400\n",
       "programmer    0.023561\n",
       "chef         -0.077140\n",
       "botanist      0.084533\n",
       "dtype: float64"
      ]
     },
     "execution_count": 16,
     "metadata": {},
     "output_type": "execute_result"
    }
   ],
   "source": [
    "(vectors.loc[words, :] * heshe).sum(axis=1).to_pandas()"
   ]
  },
  {
   "cell_type": "code",
   "execution_count": null,
   "metadata": {},
   "outputs": [],
   "source": []
  }
 ],
 "metadata": {
  "kernelspec": {
   "display_name": "Python 3",
   "language": "python",
   "name": "python3"
  },
  "language_info": {
   "codemirror_mode": {
    "name": "ipython",
    "version": 3
   },
   "file_extension": ".py",
   "mimetype": "text/x-python",
   "name": "python",
   "nbconvert_exporter": "python",
   "pygments_lexer": "ipython3",
   "version": "3.7.5"
  },
  "toc": {
   "base_numbering": 1,
   "nav_menu": {},
   "number_sections": true,
   "sideBar": true,
   "skip_h1_title": true,
   "title_cell": "Table of Contents",
   "title_sidebar": "Contents",
   "toc_cell": false,
   "toc_position": {},
   "toc_section_display": true,
   "toc_window_display": true
  }
 },
 "nbformat": 4,
 "nbformat_minor": 2
}
